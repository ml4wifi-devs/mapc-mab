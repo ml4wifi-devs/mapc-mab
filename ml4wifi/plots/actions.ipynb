{
 "cells": [
  {
   "cell_type": "code",
   "execution_count": 5,
   "metadata": {},
   "outputs": [],
   "source": [
    "import json\n",
    "from argparse import ArgumentParser\n",
    "from typing import List\n",
    "\n",
    "import numpy as np\n",
    "import matplotlib.pylab as pl\n",
    "import matplotlib.pyplot as plt\n",
    "from chex import Array\n",
    "from collections import defaultdict\n",
    "\n",
    "from ml4wifi.envs.sim import DATA_RATES\n",
    "from ml4wifi.plots.config import AGENT_NAMES\n",
    "from ml4wifi.plots.utils import confidence_interval\n",
    "\n",
    "RESULTS_FILE = \"/Users/wciezobka/ncn/mapc-mab/all_results.json\"\n",
    "APS_NAMES = [chr(ord('A') + i) for i in range(ord('Z') - ord('A') + 1)]\n",
    "WARMUP = 300"
   ]
  },
  {
   "cell_type": "markdown",
   "metadata": {},
   "source": [
    "## Loading results"
   ]
  },
  {
   "cell_type": "code",
   "execution_count": 2,
   "metadata": {},
   "outputs": [],
   "source": [
    "with open(RESULTS_FILE, 'r') as file:\n",
    "    results = json.load(file)"
   ]
  },
  {
   "cell_type": "markdown",
   "metadata": {},
   "source": [
    "## Counting actions"
   ]
  },
  {
   "cell_type": "code",
   "execution_count": 3,
   "metadata": {},
   "outputs": [],
   "source": [
    "# Define frequency dict of actions\n",
    "actions_dict = defaultdict(lambda: 0)\n",
    "\n",
    "# Count actions\n",
    "agent = results[0][\"agents\"][0]\n",
    "for run in agent[\"actions\"]:\n",
    "    for action in run[WARMUP:]:\n",
    "        # Cast action to immutable type\n",
    "        action = tuple([tuple(tx) for tx in action])\n",
    "        actions_dict[action] += 1\n",
    "\n",
    "# Sort actions by frequency\n",
    "actions = sorted(actions_dict.items(), key=lambda x: x[1], reverse=True)"
   ]
  },
  {
   "cell_type": "code",
   "execution_count": 4,
   "metadata": {},
   "outputs": [
    {
     "data": {
      "text/plain": [
       "[(((), (9,), (14,), (16,)), 24),\n",
       " (((), (10,), (), (16,)), 18),\n",
       " (((), (9,), (14,), (19,)), 17),\n",
       " (((7,), (), (12,), ()), 16),\n",
       " (((), (9,), (15,), (16,)), 14),\n",
       " (((), (10,), (), (18,)), 13),\n",
       " (((), (8,), (), (16,)), 13),\n",
       " (((5,), (), (14,), (18,)), 12),\n",
       " (((4,), (), (14,), ()), 12),\n",
       " (((6,), (), (12,), ()), 12)]"
      ]
     },
     "execution_count": 4,
     "metadata": {},
     "output_type": "execute_result"
    }
   ],
   "source": [
    "actions[:10]"
   ]
  },
  {
   "cell_type": "markdown",
   "metadata": {},
   "source": [
    "## Agregate actions by tx AP"
   ]
  },
  {
   "cell_type": "markdown",
   "metadata": {},
   "source": [
    "### Calculating frequency dicts"
   ]
  },
  {
   "cell_type": "code",
   "execution_count": 8,
   "metadata": {},
   "outputs": [],
   "source": [
    "action_to_names = lambda tx: \"\".join([APS_NAMES[i] for i, tx in enumerate(tx) if tx])\n",
    "actions_aps = [(action_to_names(tx), freq) for tx, freq in actions]\n",
    "\n",
    "# Aggregate actions by tx APs\n",
    "actions_aps_aggregated = defaultdict(lambda: 0)\n",
    "for action, freq in actions_aps:\n",
    "    actions_aps_aggregated[action] += freq\n",
    "\n",
    "# Re-run sorting\n",
    "actions_aps_aggregated = sorted(actions_aps_aggregated.items(), key=lambda x: x[1], reverse=True)"
   ]
  },
  {
   "cell_type": "code",
   "execution_count": 9,
   "metadata": {},
   "outputs": [
    {
     "data": {
      "text/plain": [
       "[('BCD', 350),\n",
       " ('ACD', 203),\n",
       " ('BD', 139),\n",
       " ('AC', 133),\n",
       " ('CD', 75),\n",
       " ('AD', 49),\n",
       " ('ABCD', 41),\n",
       " ('BC', 36),\n",
       " ('ABC', 14),\n",
       " ('ABD', 10)]"
      ]
     },
     "execution_count": 9,
     "metadata": {},
     "output_type": "execute_result"
    }
   ],
   "source": [
    "actions_aps_aggregated"
   ]
  },
  {
   "cell_type": "markdown",
   "metadata": {},
   "source": [
    "### Plottting"
   ]
  },
  {
   "cell_type": "code",
   "execution_count": 7,
   "metadata": {},
   "outputs": [
    {
     "data": {
      "image/png": "[encoded data removed]",
      "text/plain": [
       "<Figure size 864x432 with 1 Axes>"
      ]
     },
     "metadata": {},
     "output_type": "display_data"
    }
   ],
   "source": [
    "# Plot histogram of actions_aps_aggregated\n",
    "fig, ax = plt.subplots(figsize=(12, 6))\n",
    "ax.bar([x[0] for x in actions_aps_aggregated], [x[1] for x in actions_aps_aggregated])\n",
    "ax.set_xlabel(\"Actions\")\n",
    "ax.set_ylabel(\"Frequency\")\n",
    "ax.set_title(\"Histogram of actions\")\n",
    "plt.xticks(rotation=90)\n",
    "plt.savefig(\"actions.pdf\", bbox_inches='tight')"
   ]
  },
  {
   "cell_type": "code",
   "execution_count": null,
   "metadata": {},
   "outputs": [],
   "source": []
  }
 ],
 "metadata": {
  "kernelspec": {
   "display_name": "pymapc310",
   "language": "python",
   "name": "python3"
  },
  "language_info": {
   "codemirror_mode": {
    "name": "ipython",
    "version": 3
   },
   "file_extension": ".py",
   "mimetype": "text/x-python",
   "name": "python",
   "nbconvert_exporter": "python",
   "pygments_lexer": "ipython3",
   "version": "3.10.4"
  }
 },
 "nbformat": 4,
 "nbformat_minor": 2
}
