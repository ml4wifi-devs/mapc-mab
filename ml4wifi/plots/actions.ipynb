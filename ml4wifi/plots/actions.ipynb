{
 "cells": [
  {
   "cell_type": "code",
   "execution_count": 141,
   "metadata": {},
   "outputs": [],
   "source": [
    "import string\n",
    "import json\n",
    "from argparse import ArgumentParser\n",
    "from typing import List\n",
    "\n",
    "import numpy as np\n",
    "import matplotlib.pylab as pl\n",
    "import matplotlib.pyplot as plt\n",
    "from chex import Array\n",
    "from collections import defaultdict\n",
    "\n",
    "from ml4wifi.envs.sim import DATA_RATES\n",
    "from ml4wifi.envs.scenarios.static import simple_scenario_5\n",
    "from ml4wifi.plots.config import AGENT_NAMES\n",
    "from ml4wifi.plots.utils import confidence_interval"
   ]
  },
  {
   "cell_type": "code",
   "execution_count": 142,
   "metadata": {},
   "outputs": [],
   "source": [
    "COLORS = pl.cm.viridis(np.linspace(0., 1., 5))\n",
    "APS_NAMES = string.ascii_uppercase\n",
    "\n",
    "RESULTS_FILE = \"/Users/wciezobka/ncn/mapc-mab/all_results.json\"\n",
    "SCENARIO = simple_scenario_5()\n",
    "WARMUP = 0"
   ]
  },
  {
   "cell_type": "markdown",
   "metadata": {},
   "source": [
    "## Loading results"
   ]
  },
  {
   "cell_type": "code",
   "execution_count": 143,
   "metadata": {},
   "outputs": [],
   "source": [
    "with open(RESULTS_FILE, 'r') as file:\n",
    "    results = json.load(file)"
   ]
  },
  {
   "cell_type": "markdown",
   "metadata": {},
   "source": [
    "## Counting actions"
   ]
  },
  {
   "cell_type": "code",
   "execution_count": 144,
   "metadata": {},
   "outputs": [],
   "source": [
    "# Define frequency dict of actions\n",
    "actions_dict = defaultdict(lambda: 0)\n",
    "\n",
    "# Count actions\n",
    "agent = results[0][\"agents\"][0]\n",
    "n_runs = len(agent[\"actions\"])\n",
    "for run in agent[\"actions\"]:\n",
    "    for action in run[WARMUP:]:\n",
    "        # Cast action to immutable type\n",
    "        action = tuple([tuple(tx) for tx in action])\n",
    "        actions_dict[action] += 1\n",
    "\n",
    "# Sort actions by frequency\n",
    "actions = sorted(actions_dict.items(), key=lambda x: x[1], reverse=True)\n",
    "\n",
    "# Scale actions by number of runs\n",
    "actions = [(action, freq / n_runs) for action, freq in actions]"
   ]
  },
  {
   "cell_type": "markdown",
   "metadata": {},
   "source": [
    "## Agregate actions by tx AP"
   ]
  },
  {
   "cell_type": "markdown",
   "metadata": {},
   "source": [
    "### Calculating frequency dicts"
   ]
  },
  {
   "cell_type": "code",
   "execution_count": 145,
   "metadata": {},
   "outputs": [],
   "source": [
    "action_to_names = lambda tx: \"\".join([APS_NAMES[i] for i, tx in enumerate(tx) if tx])\n",
    "actions_aps = [(action_to_names(tx), freq) for tx, freq in actions]\n",
    "\n",
    "# Aggregate actions by tx APs\n",
    "actions_aps_aggregated = defaultdict(lambda: 0)\n",
    "for action, freq in actions_aps:\n",
    "    actions_aps_aggregated[action] += freq\n",
    "\n",
    "# Re-run sorting\n",
    "actions_aps_aggregated = sorted(actions_aps_aggregated.items(), key=lambda x: x[1], reverse=True)"
   ]
  },
  {
   "cell_type": "markdown",
   "metadata": {},
   "source": [
    "### Plottting"
   ]
  },
  {
   "cell_type": "code",
   "execution_count": 146,
   "metadata": {},
   "outputs": [
    {
     "data": {
      "image/png": "[encoded data removed]",
      "text/plain": [
       "<Figure size 576x288 with 1 Axes>"
      ]
     },
     "metadata": {},
     "output_type": "display_data"
    }
   ],
   "source": [
    "# Plot histogram of actions_aps_aggregated\n",
    "fig, ax = plt.subplots(figsize=(8, 4))\n",
    "ax.bar([x[0] for x in actions_aps_aggregated], [x[1] for x in actions_aps_aggregated])\n",
    "ax.set_xlabel(\"APs' groups\")\n",
    "ax.set_ylabel(\"Transmission opportunities\")\n",
    "ax.set_title(\n",
    "    \"Histogram of simultaneously transmitting APs' groups\" +\n",
    "    f\"\\nTotal slots: {len(run[WARMUP:])}\"\n",
    ")\n",
    "plt.xticks(rotation=90)\n",
    "plt.savefig(\"aggregating-by-APs.pdf\", bbox_inches='tight')"
   ]
  },
  {
   "cell_type": "markdown",
   "metadata": {},
   "source": [
    "## Aggregate actions by rx STAs"
   ]
  },
  {
   "cell_type": "code",
   "execution_count": 147,
   "metadata": {},
   "outputs": [],
   "source": [
    "# Aggregate actions by tx APs\n",
    "actions_stas_aggregated = defaultdict(lambda: 0)\n",
    "for action, freq in actions:\n",
    "    for sta in action:\n",
    "        if sta:\n",
    "            actions_stas_aggregated[f\"STA_{sta[0]}\"] += freq\n",
    "\n",
    "# Re-run sorting\n",
    "actions_stas_aggregated = sorted(actions_stas_aggregated.items(), key=lambda x: x[1], reverse=True)"
   ]
  },
  {
   "cell_type": "code",
   "execution_count": 148,
   "metadata": {},
   "outputs": [
    {
     "name": "stdout",
     "output_type": "stream",
     "text": [
      "Jain's fairness index: 0.8604003260967468\n"
     ]
    }
   ],
   "source": [
    "txops_slots = len(run[WARMUP:])\n",
    "txops_values = [x[1] for x in actions_stas_aggregated]\n",
    "sta_fairness = np.power(np.sum(txops_values), 2) / (len(txops_values) * np.sum(np.power(txops_values, 2)))\n",
    "print(f\"Jain's fairness index: {sta_fairness}\")"
   ]
  },
  {
   "cell_type": "code",
   "execution_count": 149,
   "metadata": {},
   "outputs": [
    {
     "data": {
      "text/plain": [
       "[('STA_14', 312.39999999999947),\n",
       " ('STA_19', 273.1999999999996),\n",
       " ('STA_15', 204.79999999999978),\n",
       " ('STA_5', 202.79999999999976),\n",
       " ('STA_18', 171.59999999999977),\n",
       " ('STA_4', 156.39999999999975),\n",
       " ('STA_16', 144.59999999999968),\n",
       " ('STA_9', 143.79999999999967),\n",
       " ('STA_8', 129.20000000000002),\n",
       " ('STA_12', 117.40000000000008),\n",
       " ('STA_10', 115.00000000000013),\n",
       " ('STA_11', 109.20000000000014),\n",
       " ('STA_13', 104.60000000000015),\n",
       " ('STA_7', 98.60000000000012),\n",
       " ('STA_6', 97.40000000000016),\n",
       " ('STA_17', 96.60000000000018)]"
      ]
     },
     "execution_count": 149,
     "metadata": {},
     "output_type": "execute_result"
    }
   ],
   "source": [
    "actions_stas_aggregated"
   ]
  },
  {
   "cell_type": "markdown",
   "metadata": {},
   "source": [
    "### Plotting"
   ]
  },
  {
   "cell_type": "code",
   "execution_count": 150,
   "metadata": {},
   "outputs": [
    {
     "data": {
      "image/png": "[encoded data removed]",
      "text/plain": [
       "<Figure size 576x288 with 1 Axes>"
      ]
     },
     "metadata": {},
     "output_type": "display_data"
    }
   ],
   "source": [
    "n_stas = len(actions_stas_aggregated)\n",
    "\n",
    "# Plot histogram of actions_stas_aggregated\n",
    "fig, ax = plt.subplots(figsize=(8, 4))\n",
    "ax.bar([x[0] for x in actions_stas_aggregated], [x[1] for x in actions_stas_aggregated])\n",
    "ax.plot([-0.5, n_stas - 0.5], [txops_slots / n_stas] * 2, color=\"black\", linestyle=\"--\", label=\"round-robin\\nsingle transmission\")\n",
    "ax.set_xlabel(\"Stations\")\n",
    "ax.set_ylabel(\"Transmission opportunities\")\n",
    "ax.set_title(\n",
    "    f\"Fairness of transmission opportunities\" +\n",
    "    f\"\\nJain's fairness index: {sta_fairness:.3f}\" +\n",
    "    f\"\\nTotal slots: {txops_slots}\"\n",
    ")\n",
    "ax.legend()\n",
    "plt.xticks(rotation=90)\n",
    "plt.savefig(\"aggregating-by-STAs.pdf\", bbox_inches='tight')"
   ]
  },
  {
   "cell_type": "code",
   "execution_count": 151,
   "metadata": {},
   "outputs": [
    {
     "data": {
      "text/plain": [
       "0.4858039215686272"
      ]
     },
     "execution_count": 151,
     "metadata": {},
     "output_type": "execute_result"
    }
   ],
   "source": [
    "sum([x[1] for x in actions_stas_aggregated]) / 5 / 1020"
   ]
  },
  {
   "cell_type": "markdown",
   "metadata": {},
   "source": [
    "## Blob top 10 actions"
   ]
  },
  {
   "cell_type": "code",
   "execution_count": 152,
   "metadata": {},
   "outputs": [],
   "source": [
    "def plot(scenario, top_actions, filename = None) -> None:\n",
    "    colors_actions = plt.colormaps['jet'](np.linspace(0, 1, len(top_actions)))\n",
    "    ap_labels = string.ascii_uppercase\n",
    "\n",
    "    fig, ax = plt.subplots()\n",
    "    fig.set_size_inches(6, 6)\n",
    "\n",
    "    # Plot topology\n",
    "    pos = scenario.pos\n",
    "    for i, (ap, stations) in enumerate(scenario.associations.items()):\n",
    "        ax.scatter(pos[ap, 0], pos[ap, 1], marker='x', color=\"black\")\n",
    "        ax.scatter(pos[stations, 0], pos[stations, 1], marker='.', color=\"black\")\n",
    "        ax.annotate(f'AP {ap_labels[i]}', (pos[ap, 0], pos[ap, 1] + 2), color=\"black\", va='bottom', ha='center')\n",
    "\n",
    "        radius = np.max(np.sqrt(np.sum((pos[stations, :] - pos[ap, :]) ** 2, axis=-1)))\n",
    "        circle = plt.Circle((pos[ap, 0], pos[ap, 1]), radius * 1.2, fill=False, linewidth=0.5)\n",
    "        ax.add_patch(circle)\n",
    "\n",
    "    # Plot walls\n",
    "    if scenario.walls_pos is not None:\n",
    "        for wall in scenario.walls_pos:\n",
    "            ax.plot([wall[0], wall[2]], [wall[1], wall[3]], color='black', linewidth=1)\n",
    "    \n",
    "    # Plot actions\n",
    "    max_count = max([x[1] for x in top_actions])\n",
    "    for i, (action, count) in enumerate(top_actions):\n",
    "        action = [sta[0] for sta in action if sta]\n",
    "        for sta in action:\n",
    "            radius = 50 * (count / max_count)\n",
    "            ax.scatter(pos[sta, 0], pos[sta, 1], marker='o', color=colors_actions[i], s=radius**2, alpha=0.4, edgecolor='none')\n",
    "            \n",
    "\n",
    "    ax.set_axisbelow(True)\n",
    "    ax.set_xlabel('X [m]')\n",
    "    ax.set_ylabel('Y [m]')\n",
    "    ax.set_aspect('equal')\n",
    "    ax.set_title('Location of nodes')\n",
    "    ax.grid()\n",
    "\n",
    "    if filename:\n",
    "        plt.tight_layout()\n",
    "        plt.savefig(filename, bbox_inches='tight')\n",
    "        plt.clf()\n",
    "    else:\n",
    "        plt.show()"
   ]
  },
  {
   "cell_type": "code",
   "execution_count": 153,
   "metadata": {},
   "outputs": [
    {
     "data": {
      "text/plain": [
       "<Figure size 432x432 with 0 Axes>"
      ]
     },
     "metadata": {},
     "output_type": "display_data"
    }
   ],
   "source": [
    "# Plot the most popular STA groups\n",
    "plot(SCENARIO, actions[:5], filename=\"top-4.pdf\")"
   ]
  },
  {
   "cell_type": "code",
   "execution_count": 154,
   "metadata": {},
   "outputs": [
    {
     "data": {
      "text/plain": [
       "[(((6,), (), (15,), ()), 43.6),\n",
       " (((), (10,), (), (19,)), 41.6),\n",
       " (((5,), (), (15,), ()), 41.4),\n",
       " (((7,), (), (15,), ()), 40.8),\n",
       " (((4,), (), (15,), ()), 33.2),\n",
       " (((), (9,), (14,), (18,)), 26.0),\n",
       " (((5,), (), (14,), ()), 24.6),\n",
       " (((), (8,), (), (19,)), 23.2),\n",
       " (((5,), (), (14,), (19,)), 23.2),\n",
       " (((), (8,), (14,), (16,)), 23.0)]"
      ]
     },
     "execution_count": 154,
     "metadata": {},
     "output_type": "execute_result"
    }
   ],
   "source": [
    "actions[:10]"
   ]
  },
  {
   "cell_type": "code",
   "execution_count": null,
   "metadata": {},
   "outputs": [],
   "source": []
  }
 ],
 "metadata": {
  "kernelspec": {
   "display_name": "pymapc310",
   "language": "python",
   "name": "python3"
  },
  "language_info": {
   "codemirror_mode": {
    "name": "ipython",
    "version": 3
   },
   "file_extension": ".py",
   "mimetype": "text/x-python",
   "name": "python",
   "nbconvert_exporter": "python",
   "pygments_lexer": "ipython3",
   "version": "3.10.4"
  }
 },
 "nbformat": 4,
 "nbformat_minor": 2
}
